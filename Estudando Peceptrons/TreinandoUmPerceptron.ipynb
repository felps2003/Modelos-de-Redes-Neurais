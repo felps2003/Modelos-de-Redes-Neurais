{
  "cells": [
    {
      "cell_type": "markdown",
      "metadata": {
        "id": "Xr-w_5obRXjp"
      },
      "source": [
        "## Treinamento do Perceptron \n",
        "\n",
        "Aprendendo os melhores pesos para modelar o problema. \n",
        "\n",
        "\n",
        "1. Conhecer os dados de entrada e saída (labels)\n",
        "2. Inicializar os pesos (ex: valores aleatórios) \n",
        "3. Para todo dado de treinamento: \n",
        "    - Calcular as predições com os pesos correntes e as entradas e a função de ativação \n",
        "    - Calcular os erros das predições em relação às entradas \n",
        "    - Para cada peso: \n",
        "        - Atualizá-lo mediante o erro calculado (com a fórmula: pesos(n+1) = pesos(n) + (entrada * erro * taxaAprendizagem))\n",
        "4. Repetir passos a partir do #3 enquanto “erro != zero”\n"
      ]
    },
    {
      "cell_type": "code",
      "execution_count": 12,
      "metadata": {
        "id": "IUtcBm5vRXjq"
      },
      "outputs": [],
      "source": [
        "import numpy as np\n",
        "entradas = np.array([[0, 0],\n",
        "                     [0, 1],\n",
        "                     [1, 0],\n",
        "                     [1, 1]])\n",
        "saidas = np.array( [0, 0, 0, 1] )\n",
        "pesos = np.array( [0.0, 0.0] )\n",   
        "taxaAprendizagem = 0.1"           
      ]
    },
    {
      "cell_type": "code",
      "execution_count": 13,
      "metadata": {
        "id": "QPi0AjXCRXjt"
      },
      "outputs": [],
      "source": [
        "def funcao_ativacao(soma):\n",
        "    if soma>= 1:\n",
        "        return 1\n",
        "    return 0\n",
        "\n",
        "def calcula_saida(registro):\n",
        "    s = registro.dot(pesos)\n",
        "    return funcao_ativacao(s)\n",
        "\n",
        "def treinar():\n",
        "    erroTotal = 1\n",
        "\n",
        "    while erroTotal != 0:\n",
        "        erroTotal = 0\n",
        "        for i in range(len(saidas)):\n",
        "            saidaCalculada = calcula_saida( np.asarray(entradas[i]) )\n",
        "            erro = saidas[i] - saidaCalculada\n",
        "            erroTotal += erro\n",
        "            print(f\"\\tDado: {i}\") \n",
        "            for j in range(len(pesos)):\n",
        "                pesos[j] = pesos[j] + (taxaAprendizagem * entradas[i][j] * erro)\n",
        "                print(f\"\\t\\tPeso atualizado {j}: {pesos[j]}\")\n",
        "        print(f\"---> Total de erros: {erroTotal}\\n\")"
      ]
    },
    {
      "cell_type": "code",
      "execution_count": 14,
      "metadata": {
        "colab": {
          "base_uri": "https://localhost:8080/"
        },
        "id": "tP7u41guRXjw",
        "outputId": "5441b1af-324a-44cc-d487-e028cc1c2db7"
      },
      "outputs": [
        {
          "output_type": "stream",
          "name": "stdout",
          "text": [
            "\tDado: 0\n",
            "\t\tPeso atualizado 0: 0.0\n",
            "\t\tPeso atualizado 1: 0.0\n",
            "\tDado: 1\n",
            "\t\tPeso atualizado 0: 0.0\n",
            "\t\tPeso atualizado 1: 0.0\n",
            "\tDado: 2\n",
            "\t\tPeso atualizado 0: 0.0\n",
            "\t\tPeso atualizado 1: 0.0\n",
            "\tDado: 3\n",
            "\t\tPeso atualizado 0: 0.1\n",
            "\t\tPeso atualizado 1: 0.1\n",
            "---> Total de erros: 1\n",
            "\n",
            "\tDado: 0\n",
            "\t\tPeso atualizado 0: 0.1\n",
            "\t\tPeso atualizado 1: 0.1\n",
            "\tDado: 1\n",
            "\t\tPeso atualizado 0: 0.1\n",
            "\t\tPeso atualizado 1: 0.1\n",
            "\tDado: 2\n",
            "\t\tPeso atualizado 0: 0.1\n",
            "\t\tPeso atualizado 1: 0.1\n",
            "\tDado: 3\n",
            "\t\tPeso atualizado 0: 0.2\n",
            "\t\tPeso atualizado 1: 0.2\n",
            "---> Total de erros: 1\n",
            "\n",
            "\tDado: 0\n",
            "\t\tPeso atualizado 0: 0.2\n",
            "\t\tPeso atualizado 1: 0.2\n",
            "\tDado: 1\n",
            "\t\tPeso atualizado 0: 0.2\n",
            "\t\tPeso atualizado 1: 0.2\n",
            "\tDado: 2\n",
            "\t\tPeso atualizado 0: 0.2\n",
            "\t\tPeso atualizado 1: 0.2\n",
            "\tDado: 3\n",
            "\t\tPeso atualizado 0: 0.30000000000000004\n",
            "\t\tPeso atualizado 1: 0.30000000000000004\n",
            "---> Total de erros: 1\n",
            "\n",
            "\tDado: 0\n",
            "\t\tPeso atualizado 0: 0.30000000000000004\n",
            "\t\tPeso atualizado 1: 0.30000000000000004\n",
            "\tDado: 1\n",
            "\t\tPeso atualizado 0: 0.30000000000000004\n",
            "\t\tPeso atualizado 1: 0.30000000000000004\n",
            "\tDado: 2\n",
            "\t\tPeso atualizado 0: 0.30000000000000004\n",
            "\t\tPeso atualizado 1: 0.30000000000000004\n",
            "\tDado: 3\n",
            "\t\tPeso atualizado 0: 0.4\n",
            "\t\tPeso atualizado 1: 0.4\n",
            "---> Total de erros: 1\n",
            "\n",
            "\tDado: 0\n",
            "\t\tPeso atualizado 0: 0.4\n",
            "\t\tPeso atualizado 1: 0.4\n",
            "\tDado: 1\n",
            "\t\tPeso atualizado 0: 0.4\n",
            "\t\tPeso atualizado 1: 0.4\n",
            "\tDado: 2\n",
            "\t\tPeso atualizado 0: 0.4\n",
            "\t\tPeso atualizado 1: 0.4\n",
            "\tDado: 3\n",
            "\t\tPeso atualizado 0: 0.5\n",
            "\t\tPeso atualizado 1: 0.5\n",
            "---> Total de erros: 1\n",
            "\n",
            "\tDado: 0\n",
            "\t\tPeso atualizado 0: 0.5\n",
            "\t\tPeso atualizado 1: 0.5\n",
            "\tDado: 1\n",
            "\t\tPeso atualizado 0: 0.5\n",
            "\t\tPeso atualizado 1: 0.5\n",
            "\tDado: 2\n",
            "\t\tPeso atualizado 0: 0.5\n",
            "\t\tPeso atualizado 1: 0.5\n",
            "\tDado: 3\n",
            "\t\tPeso atualizado 0: 0.5\n",
            "\t\tPeso atualizado 1: 0.5\n",
            "---> Total de erros: 0\n",
            "\n"
          ]
        }
      ],
      "source": [
        "treinar()"
      ]
    },
    {
      "cell_type": "code",
      "execution_count": 15,
      "metadata": {
        "colab": {
          "base_uri": "https://localhost:8080/"
        },
        "id": "tVm2mRY9RXj0",
        "outputId": "57abaad8-315b-4bb4-c46f-07e89f72cd1b"
      },
      "outputs": [
        {
          "output_type": "execute_result",
          "data": {
            "text/plain": [
              "array([0.5, 0.5])"
            ]
          },
          "metadata": {},
          "execution_count": 15
        }
      ],
      "source": [
        "pesos"
      ]
    }
  ],
  "metadata": {
    "kernelspec": {
      "display_name": "Python 3",
      "language": "python",
      "name": "python3"
    },
    "language_info": {
      "codemirror_mode": {
        "name": "ipython",
        "version": 3
      },
      "file_extension": ".py",
      "mimetype": "text/x-python",
      "name": "python",
      "nbconvert_exporter": "python",
      "pygments_lexer": "ipython3",
      "version": "3.7.3"
    },
    "colab": {
      "name": "TreinandoUmPerceptron.ipynb",
      "provenance": []
    }
  },
  "nbformat": 4,
  "nbformat_minor": 0
}
